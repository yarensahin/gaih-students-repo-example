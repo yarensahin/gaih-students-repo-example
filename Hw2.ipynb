{
  "nbformat": 4,
  "nbformat_minor": 0,
  "metadata": {
    "colab": {
      "name": "Hw2.ipynb",
      "provenance": [],
      "authorship_tag": "ABX9TyPn5ETRJehsgiYAphMIexxc"
    },
    "kernelspec": {
      "name": "python3",
      "display_name": "Python 3"
    }
  },
  "cells": [
    {
      "cell_type": "code",
      "metadata": {
        "id": "nQn1klslwBdt"
      },
      "source": [
        "grades=[]\r\n",
        "names=[]\r\n",
        "avggrades=[]\r\n",
        "for i in range(5):\r\n",
        "    print(\"Please enter your name and surname\")\r\n",
        "    print(\"After that enter your midterm, final and homework grades respectively\")\r\n",
        "    temp=[]\r\n",
        "    y=input()\r\n",
        "    for j in range(3):        \r\n",
        "        x=int(input())        \r\n",
        "        temp.append(x)\r\n",
        "    grades.append(temp)\r\n",
        "    names.append(y)\r\n",
        "\r\n",
        "#print(grades)\r\n",
        "#print(names)\r\n",
        "info=dict()\r\n",
        "for i in range(5):\r\n",
        "    info[names[i]]=grades[i]\r\n",
        "print(info)\r\n",
        "\r\n",
        "for i in range(5):\r\n",
        "    avg=0\r\n",
        "    summ=0\r\n",
        "    for j in range(3):\r\n",
        "        summ+=grades[i][j]\r\n",
        "    avg=summ/3\r\n",
        "    avggrades.append(avg)\r\n",
        "\r\n",
        "for i in range(5):\r\n",
        "    info[names[i]]=avggrades[i]\r\n",
        "print(info)\r\n",
        "\r\n",
        "info=sorted(info.items(),key=lambda x : x[1],reverse=True)\r\n",
        "print(info)\r\n",
        "\r\n",
        "print(\"{} Congratulations your score is the highest one!\".format(info[0]))"
      ],
      "execution_count": null,
      "outputs": []
    }
  ]
}