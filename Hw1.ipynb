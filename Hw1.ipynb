{
  "nbformat": 4,
  "nbformat_minor": 0,
  "metadata": {
    "colab": {
      "name": "Hw1.ipynb",
      "provenance": [],
      "authorship_tag": "ABX9TyPMScCUOdpP3bib7HfO7upD"
    },
    "kernelspec": {
      "name": "python3",
      "display_name": "Python 3"
    }
  },
  "cells": [
    {
      "cell_type": "code",
      "metadata": {
        "colab": {
          "base_uri": "https://localhost:8080/"
        },
        "id": "lB5wW2rbuXCE",
        "outputId": "c814cca6-57a6-4f3d-9219-cd5ceed73b88"
      },
      "source": [
        "import random as rnd \r\n",
        "\r\n",
        "\"\"\"with functions\r\n",
        "m=[[0 for x in range(3)] for y in range(3)]\r\n",
        "def func():\r\n",
        "    for i in range(3):\r\n",
        "        for j in range(3):\r\n",
        "            m[i][j]=ısPrime(rnd.randint(0,100))            \r\n",
        "    print(m)\r\n",
        "\r\n",
        "    \r\n",
        "\r\n",
        "def ısPrime(n):\r\n",
        "    for i in range(2,n):\r\n",
        "        if(n%i==0):\r\n",
        "            x=ısPrime(rnd.randint(0,100))\r\n",
        "            return x\r\n",
        "        else:\r\n",
        "            continue\r\n",
        "    if(n==0 or n==1 or n==2):\r\n",
        "        y=ısPrime(rnd.randint(0,100))\r\n",
        "        return y\r\n",
        "    return n\r\n",
        "\r\n",
        "func()\r\n",
        "\"\"\"\r\n",
        "m=[[0 for x in range(3)] for y in range(3)]\r\n",
        "number_list=[]\r\n",
        "for i in range(0,100):\r\n",
        "    x=rnd.randint(0,100)\r\n",
        "    number_list.append(x)\r\n",
        "print(number_list)\r\n",
        "primes=set()\r\n",
        "\r\n",
        "\r\n",
        "for number in number_list:\r\n",
        "    count=0\r\n",
        "    if(number==1 or number==2 or number==0):\r\n",
        "        count+=1\r\n",
        "    for k in range(2,number):\r\n",
        "        if(number%k==0 ):\r\n",
        "            count+=1\r\n",
        "            break\r\n",
        "        else:\r\n",
        "            continue\r\n",
        "    if(count==0):\r\n",
        "        primes.add(number)\r\n",
        "print(primes)\r\n",
        "list1=list(primes)\r\n",
        "\r\n",
        "k=0 #listten m[i][j] ye atanan değerlerin aynı olmaması adına bir değişken tanımladım.\r\n",
        "for i in range(3):\r\n",
        "    for j in range(3):\r\n",
        "        k+=1\r\n",
        "        m[i][j]=list1[j+k]\r\n",
        "\r\n",
        "print(m)"
      ],
      "execution_count": 1,
      "outputs": [
        {
          "output_type": "stream",
          "text": [
            "[78, 79, 12, 50, 24, 77, 58, 44, 24, 49, 1, 9, 11, 98, 79, 22, 51, 63, 51, 67, 44, 4, 94, 84, 77, 53, 14, 14, 91, 78, 98, 79, 77, 13, 97, 33, 86, 88, 13, 1, 35, 47, 69, 93, 80, 34, 85, 69, 7, 83, 79, 89, 61, 6, 6, 93, 89, 68, 87, 60, 23, 13, 51, 73, 3, 52, 90, 47, 31, 20, 57, 35, 22, 38, 48, 58, 37, 59, 2, 55, 82, 5, 42, 61, 74, 50, 33, 22, 18, 39, 62, 37, 33, 17, 53, 71, 76, 88, 9, 98]\n",
            "{97, 67, 3, 37, 5, 7, 71, 73, 11, 13, 79, 47, 17, 83, 53, 23, 89, 59, 61, 31}\n",
            "[[67, 37, 7], [5, 71, 11], [73, 13, 47]]\n"
          ],
          "name": "stdout"
        }
      ]
    }
  ]
}