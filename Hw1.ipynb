{
  "nbformat": 4,
  "nbformat_minor": 0,
  "metadata": {
    "colab": {
      "name": "Hw1.ipynb",
      "provenance": [],
      "authorship_tag": "ABX9TyPMScCUOdpP3bib7HfO7upD"
    },
    "kernelspec": {
      "name": "python3",
      "display_name": "Python 3"
    }
  },
  "cells": [
    {
      "cell_type": "code",
      "metadata": {
        "id": "3NBNJk6jvF-9"
      },
      "source": [
        "import random as rnd \r\n",
        "\r\n",
        "\"\"\"with functions\r\n",
        "m=[[0 for x in range(3)] for y in range(3)]\r\n",
        "def func():\r\n",
        "    for i in range(3):\r\n",
        "        for j in range(3):\r\n",
        "            m[i][j]=ısPrime(rnd.randint(0,100))            \r\n",
        "    print(m)\r\n",
        "\r\n",
        "    \r\n",
        "\r\n",
        "def ısPrime(n):\r\n",
        "    for i in range(2,n):\r\n",
        "        if(n%i==0):\r\n",
        "            x=ısPrime(rnd.randint(0,100))\r\n",
        "            return x\r\n",
        "        else:\r\n",
        "            continue\r\n",
        "    if(n==0 or n==1 or n==2):\r\n",
        "        y=ısPrime(rnd.randint(0,100))\r\n",
        "        return y\r\n",
        "    return n\r\n",
        "\r\n",
        "func()\r\n",
        "\"\"\"\r\n",
        "m=[[0 for x in range(3)] for y in range(3)]\r\n",
        "number_list=[]\r\n",
        "for i in range(0,100):\r\n",
        "    x=rnd.randint(0,100)\r\n",
        "    number_list.append(x)\r\n",
        "print(number_list)\r\n",
        "primes=set()\r\n",
        "\r\n",
        "\r\n",
        "for number in number_list:\r\n",
        "    count=0\r\n",
        "    if(number==1 or number==2 or number==0):\r\n",
        "        count+=1\r\n",
        "    for k in range(2,number):\r\n",
        "        if(number%k==0 ):\r\n",
        "            count+=1\r\n",
        "            break\r\n",
        "        else:\r\n",
        "            continue\r\n",
        "    if(count==0):\r\n",
        "        primes.add(number)\r\n",
        "print(primes)\r\n",
        "list1=list(primes)\r\n",
        "\r\n",
        "k=0 #listten m[i][j] ye atanan değerlerin aynı olmaması adına bir değişken tanımladım.\r\n",
        "for i in range(3):\r\n",
        "    for j in range(3):\r\n",
        "        k+=1\r\n",
        "        m[i][j]=list1[j+k]\r\n",
        "\r\n",
        "print(m)"
      ],
      "execution_count": null,
      "outputs": []
    }
  ]
}