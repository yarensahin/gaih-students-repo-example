{
  "nbformat": 4,
  "nbformat_minor": 0,
  "metadata": {
    "colab": {
      "name": "Hw4.ipynb",
      "provenance": [],
      "authorship_tag": "ABX9TyNBz5PtOBd1ZL8YWk+9fknK"
    },
    "kernelspec": {
      "name": "python3",
      "display_name": "Python 3"
    }
  },
  "cells": [
    {
      "cell_type": "code",
      "metadata": {
        "id": "F6_OqtlHwl30"
      },
      "source": [
        "word=\"PYTHON\"\r\n",
        "screen=list(len(word)*\"_\")\r\n",
        "\r\n",
        "class Hangman():\r\n",
        "    def __init__(self,gamename,lives,won):\r\n",
        "        self.gamename=gamename\r\n",
        "        self.lives=lives\r\n",
        "        self.won=won\r\n",
        "    def Play(self):\r\n",
        "        while self.won==False and self.lives>0:\r\n",
        "            print(screen)\r\n",
        "            guess=input(\"Enter a letter or word\")\r\n",
        "            guess=guess.upper()\r\n",
        "\r\n",
        "            if guess==word:\r\n",
        "                self.won=True\r\n",
        "                print(\"Congratulations\")\r\n",
        "            elif len(guess)==1 and guess in word:\r\n",
        "                for i in range(0,len(word)):\r\n",
        "                    if(guess==word[i]):\r\n",
        "                        screen[i]=guess\r\n",
        "                if \"_\" not in screen:\r\n",
        "                    self.won=True\r\n",
        "                    print(\"Congratulations\")\r\n",
        "            else:\r\n",
        "                self.lives-=1\r\n",
        "                print(\"{} lives left\".format(self.lives))\r\n",
        "        if(self.lives==0):\r\n",
        "            print(\"Game over\")\r\n",
        "\r\n",
        "Game=Hangman(\"Hangman\",5,False)\r\n",
        "Game.Play()"
      ],
      "execution_count": null,
      "outputs": []
    }
  ]
}