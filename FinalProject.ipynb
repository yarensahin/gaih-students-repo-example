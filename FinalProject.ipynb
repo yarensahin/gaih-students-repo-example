{
  "nbformat": 4,
  "nbformat_minor": 0,
  "metadata": {
    "colab": {
      "name": "FinalProject.ipynb",
      "provenance": [],
      "authorship_tag": "ABX9TyO9jdEiPk91D4e162/H4VI3"
    },
    "kernelspec": {
      "name": "python3",
      "display_name": "Python 3"
    }
  },
  "cells": [
    {
      "cell_type": "code",
      "metadata": {
        "id": "nq-7YB9Jw6B_"
      },
      "source": [
        "class Recipe_Commons():\r\n",
        "        def __init__(self,common):\r\n",
        "            self.common=common\r\n",
        "        def Mix(self):\r\n",
        "            print(\"Mixed\")\r\n",
        "        def Add(self):\r\n",
        "            print(\"Added\")\r\n",
        "        def product_using(self):\r\n",
        "            print(\"Order of ingredients\")\r\n",
        "class Recipe_Commons2():\r\n",
        "        def __init__(self,common):\r\n",
        "            self.common=common\r\n",
        "        def Cook(self):\r\n",
        "            print(\"Cooked\")\r\n",
        "class salad(Recipe_Commons):\r\n",
        "        def __init__(self,name,ingredient1,ingredient2,ingredient3,ingredient4):\r\n",
        "            self.name=name\r\n",
        "            self.ingredient1=ingredient1\r\n",
        "            self.ingredient2=ingredient2\r\n",
        "            self.ingredient3=ingredient3\r\n",
        "            self.ingredient4=ingredient4\r\n",
        "        def product_using(self):\r\n",
        "            print(\"First cut all ingredients, add oil and salt, finally mix all of them\")\r\n",
        "        def Add(self,something):\r\n",
        "            print(\"{} is added\".format(something))\r\n",
        "\r\n",
        "class rice(Recipe_Commons,Recipe_Commons2):\r\n",
        "        def __init__(self,name,ingredient1,ingredient2,ingredient3):\r\n",
        "            self.name=name\r\n",
        "            self.ingredient1=ingredient1\r\n",
        "            self.ingredient2=ingredient2\r\n",
        "            self.ingredient3=ingredient3\r\n",
        "        def product_using(self):\r\n",
        "            print(\"Add some water, oil and salt, it is ready to cook\")\r\n",
        "        def Add(self,something):\r\n",
        "            print(\"{} is added\".format(something))\r\n",
        "    \r\n",
        "class spaghetti(Recipe_Commons,Recipe_Commons2):\r\n",
        "        def __init__(self,name,ingredient1,ingredient2,ingredient3):\r\n",
        "            self.name=name\r\n",
        "            self.ingredient1=ingredient1\r\n",
        "            self.ingredient2=ingredient2\r\n",
        "            self.ingredient3=ingredient3\r\n",
        "        def product_using(self):\r\n",
        "            print(\"First add spaghetti, after that add some water and salt, it is ready to cook\")\r\n",
        "        def Add(self,something):\r\n",
        "            print(\"{} is added\".format(something))\r\n",
        "\r\n",
        "\r\n",
        "firstrecipe=salad(\"Salad\",\"Carrot\",\"Tomato\",\"Salt\",\"Oil\")\r\n",
        "firstrecipe.product_using()\r\n",
        "firstrecipe.Add(\"tomato\")\r\n",
        "firstrecipe.Add(\"carrot\")\r\n",
        "firstrecipe.Mix()\r\n",
        "\r\n",
        "secondrecipe=rice(\"Rice\",\"Water\",\"Oil\",\"Salt\")\r\n",
        "secondrecipe.product_using()\r\n",
        "secondrecipe.Add(\"Water\")\r\n",
        "secondrecipe.Add(\"Oil\")\r\n",
        "secondrecipe.Add(\"Salt\")\r\n",
        "secondrecipe.Cook()"
      ],
      "execution_count": null,
      "outputs": []
    }
  ]
}