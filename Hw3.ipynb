{
  "nbformat": 4,
  "nbformat_minor": 0,
  "metadata": {
    "colab": {
      "name": "Hw3.ipynb",
      "provenance": [],
      "authorship_tag": "ABX9TyMFmD3dgEuDv2IecKOvMpzZ"
    },
    "kernelspec": {
      "name": "python3",
      "display_name": "Python 3"
    }
  },
  "cells": [
    {
      "cell_type": "code",
      "metadata": {
        "id": "rgIvkW-YwLcK"
      },
      "source": [
        "def prime_first(n):\r\n",
        "    count=0\r\n",
        "    if(n==0 or n==1 or n==2):\r\n",
        "        count+=1\r\n",
        "    for j in range(2,n):\r\n",
        "        if(n%j==0):\r\n",
        "            count+=1\r\n",
        "            break\r\n",
        "        else:\r\n",
        "            continue\r\n",
        "    if(count==0):\r\n",
        "           print(i)\r\n",
        "    \r\n",
        "   \r\n",
        "def prime_second(n):\r\n",
        "    count=0\r\n",
        "    for j in range(2,n):\r\n",
        "        if(n%j==0):\r\n",
        "            count+=1\r\n",
        "            break\r\n",
        "        else:\r\n",
        "            continue\r\n",
        "    if(count==0):\r\n",
        "        print(i)\r\n",
        "      \r\n",
        "for i in range(0,1000):\r\n",
        "    if (i<500):\r\n",
        "        prime_first(i)\r\n",
        "    else:\r\n",
        "        prime_second(i)"
      ],
      "execution_count": null,
      "outputs": []
    }
  ]
}